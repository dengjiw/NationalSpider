{
 "cells": [
  {
   "cell_type": "code",
   "execution_count": 1,
   "metadata": {},
   "outputs": [],
   "source": [
    "from urllib import request,parse\n",
    "import json"
   ]
  },
  {
   "cell_type": "code",
   "execution_count": 29,
   "metadata": {},
   "outputs": [],
   "source": [
    "url = \"https://www.wookey.cn/home/current/whole_package.shtml?gId=74730&goodsId=1130&type=3\"\n",
    "\n",
    "data = {'gId': '74730', 'goodsId': '1130', 'type': '3'}\n",
    "\n",
    "headers = {\n",
    "    'Content-Type':'application/x-www-form-urlencoded; charset=UTF-8',\n",
    "    'Cookie':'Hm_lvt_c4d1bb6859344311f4c1fc050022e446=1708577770,1708833846; user_token=NyTegk5oZoTwNiZjE2NzRhZGQzMzVkNWM2YmJmMjlkYWQxYzkzZGE5MTJlNWYzNWMzZjdjZmQ1ZjdlNDBiYTMyNjM4MDQ1YTgzZTEx; user_id=11450639; wk_sub_id=2; wk_sub_name=%E8%AF%AD%E6%96%87; wk_gra_id=13; wk_gra_name=%E4%B8%80%E5%B9%B4%E7%BA%A7%E4%B8%8A; wk_pro_id=1; wk_pro_name=%E5%8C%97%E4%BA%AC; wk_city_id=2; wk_city_name=%E5%8C%97%E4%BA%AC%E5%B8%82; whole_city_id_11450639=2; Hm_lpvt_c4d1bb6859344311f4c1fc050022e446=1708835615; acw_tc=2760824817088357064935113ebe7ddd0bdb7fbddd3d659bfb9e889f5984cb; SERVERID=8380a89226f37c9e713b0051f2dbe976|1708835706|1708833845'\n",
    "}\n",
    "data = parse.urlencode(data)\n",
    "\n",
    "req = request.Request(url = url,data=bytes(data,encoding='utf-8'),headers=headers)\n",
    "res = request.urlopen(req)"
   ]
  },
  {
   "cell_type": "code",
   "execution_count": 30,
   "metadata": {},
   "outputs": [
    {
     "name": "stdout",
     "output_type": "stream",
     "text": [
      "{'status': 'y', 'info': 'https://xz.wookey.cn/course/privately/else/202308/1 天地人【慕课堂版教案】WciBXS8XXyWKy4G.docx'}\n"
     ]
    }
   ],
   "source": [
    "print(json.loads(res.read().decode('utf-8')))"
   ]
  }
 ],
 "metadata": {
  "kernelspec": {
   "display_name": "base",
   "language": "python",
   "name": "python3"
  },
  "language_info": {
   "codemirror_mode": {
    "name": "ipython",
    "version": 3
   },
   "file_extension": ".py",
   "mimetype": "text/x-python",
   "name": "python",
   "nbconvert_exporter": "python",
   "pygments_lexer": "ipython3",
   "version": "3.8.17"
  }
 },
 "nbformat": 4,
 "nbformat_minor": 2
}
