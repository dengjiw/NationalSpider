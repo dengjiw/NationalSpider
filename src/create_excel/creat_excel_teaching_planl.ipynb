{
 "cells": [
  {
   "cell_type": "code",
   "execution_count": 1,
   "metadata": {},
   "outputs": [],
   "source": [
    "import requests\n",
    "import uuid\n",
    "import xlrd\n",
    "import yaml\n",
    "from xlutils.copy import copy\n",
    "from tqdm import tqdm"
   ]
  },
  {
   "cell_type": "code",
   "execution_count": 2,
   "metadata": {},
   "outputs": [],
   "source": [
    "def read_yaml(yaml_path):\n",
    "    with open(yaml_path, encoding=\"utf-8\", mode=\"r\") as f:\n",
    "        result = yaml.load(stream=f,Loader=yaml.FullLoader)\n",
    "        return result"
   ]
  },
  {
   "cell_type": "code",
   "execution_count": 3,
   "metadata": {},
   "outputs": [],
   "source": [
    "def excel(result):\n",
    "\n",
    "    wb = xlrd.open_workbook(result['example_excel_path'])\n",
    "    st = wb.sheet_by_index(0)  # sheet索引从0开始\n",
    "\n",
    "    excel = copy(wb)\n",
    "\n",
    "    write_excel = excel.get_sheet(0)\n",
    "\n",
    "    return excel, write_excel, st"
   ]
  },
  {
   "cell_type": "code",
   "execution_count": 4,
   "metadata": {},
   "outputs": [],
   "source": [
    "def main(line, write_excel, row, msg):\n",
    "    pop = line[:8] + \"-\" + line[8:12] + \"-\" + line[12:16] + \"-\" + line[16:20] + \"-\" + line[20:]\n",
    "    url = \"https://bdcs-file-2.ykt.cbern.com.cn/zxx/ndrs/resources/{}.json\".format(pop)\n",
    "\n",
    "    pop = requests.get(url).json()\n",
    "\n",
    "    try:\n",
    "        id = pop['relations']['lesson_plan_design'][0]['id']\n",
    "    except:\n",
    "        return 0\n",
    "    \n",
    "    school = pop['custom_properties']['school_name']\n",
    "\n",
    "    teacher = pop['author']\n",
    "\n",
    "    msgs = msg.split(\"-\")\n",
    "    if len(msgs) == 5:\n",
    "        write_excel.write(row, 1, msgs[0]) #学段\n",
    "\n",
    "        write_excel.write(row, 2, msgs[1]) #学科\n",
    "\n",
    "        write_excel.write(row, 3, msgs[2]) #教材\n",
    "\n",
    "        write_excel.write(row, 4, msgs[3]+msgs[4].strip()) #年级\n",
    "    else:\n",
    "        return 0\n",
    "        # write_excel.write(row, 1, msgs[0])\n",
    "\n",
    "        # write_excel.write(row, 2, msgs[1])\n",
    "\n",
    "        # write_excel.write(row, 3, msgs[2])\n",
    "\n",
    "        # write_excel.write(row, 4, msgs[3])\n",
    "        \n",
    "    \n",
    "    write_excel.write(row, 0, '国家中小学智慧教育平台')\n",
    "\n",
    "    write_excel.write(row, 9, school)\n",
    "\n",
    "    write_excel.write(row, 10, teacher)\n",
    "\n",
    "    for e in pop['relations']['lesson_plan_design'][0]['ti_items']:\n",
    "        if e['ti_storages'][0].find(\".pdf\") > 0:\n",
    "            dlink = e['ti_storages'][0]\n",
    "            break\n",
    "        else:\n",
    "            continue\n",
    "\n",
    "    write_excel.write(row, 11, dlink)\n",
    "\n",
    "    write_excel.write(row, 12, str(uuid.uuid4()))\n",
    "    return 1"
   ]
  },
  {
   "cell_type": "code",
   "execution_count": 5,
   "metadata": {},
   "outputs": [
    {
     "name": "stderr",
     "output_type": "stream",
     "text": [
      "100%|██████████| 6271/6271 [37:09<00:00,  2.81it/s]\n"
     ]
    }
   ],
   "source": [
    "if __name__ == '__main__':\n",
    "\n",
    "    result = read_yaml(\"../../settings/settings.yaml\")\n",
    "    new_excel, write_excel, st = excel(result)\n",
    "\n",
    "    with open(result['resource_path'], \"r\",encoding=\"utf-8\") as f:\n",
    "        lines = f.readlines()\n",
    "    # lines = ['课文_语文园地四_书写提示+日积月累_8aee80fe6a609d81016a6459b551190a_小学-语文-统编版-一年级-下册','课文_语文园地四_书写提示+日积月累_8aee80076a5650cf016a591dc2d9145e_小学-语文-统编版-一年级-下册']\n",
    "\n",
    "    for l in tqdm(lines):\n",
    "        splits = l.split(\"_\")\n",
    "\n",
    "        m = main(splits[-2].strip(), write_excel, st.nrows, splits[-1])\n",
    "        if m == 0 :\n",
    "            continue\n",
    "        else:\n",
    "            for e in range(len(splits) - 2):\n",
    "                write_excel.write(st.nrows,5 + e,splits[e])\n",
    "            \n",
    "            st.nrows = st.nrows + 1\n",
    "            \n",
    "    new_excel.save(result['teaching_plan_excel_path'])"
   ]
  }
 ],
 "metadata": {
  "kernelspec": {
   "display_name": "base",
   "language": "python",
   "name": "python3"
  },
  "language_info": {
   "codemirror_mode": {
    "name": "ipython",
    "version": 3
   },
   "file_extension": ".py",
   "mimetype": "text/x-python",
   "name": "python",
   "nbconvert_exporter": "python",
   "pygments_lexer": "ipython3",
   "version": "3.8.17"
  }
 },
 "nbformat": 4,
 "nbformat_minor": 2
}
