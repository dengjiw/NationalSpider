{
 "cells": [
  {
   "cell_type": "code",
   "execution_count": 1,
   "metadata": {},
   "outputs": [],
   "source": [
    "import requests\n",
    "import xlrd\n",
    "import yaml\n",
    "from xlutils.copy import copy\n",
    "from tqdm import tqdm"
   ]
  },
  {
   "cell_type": "code",
   "execution_count": 2,
   "metadata": {},
   "outputs": [],
   "source": [
    "def read_yaml(yaml_path):\n",
    "    with open(yaml_path, encoding=\"utf-8\", mode=\"r\") as f:\n",
    "        result = yaml.load(stream=f,Loader=yaml.FullLoader)\n",
    "        return result"
   ]
  },
  {
   "cell_type": "code",
   "execution_count": 3,
   "metadata": {},
   "outputs": [],
   "source": [
    "def excel(result):\n",
    "\n",
    "    wb = xlrd.open_workbook(result['example_excel_path'])\n",
    "    st = wb.sheet_by_index(0)  # sheet索引从0开始\n",
    "\n",
    "    excel = copy(wb)\n",
    "\n",
    "    write_excel = excel.get_sheet(0)\n",
    "\n",
    "    return excel, write_excel, st"
   ]
  },
  {
   "cell_type": "code",
   "execution_count": 4,
   "metadata": {},
   "outputs": [],
   "source": [
    "def create_dict(jcid):\n",
    "    url = 'https://s-file-1.ykt.cbern.com.cn/zxx/ndrs/prepare_lesson/trees/{}.json'.format(jcid)\n",
    "    responce = requests.get(url).json()\n",
    "    my_dict = {}\n",
    "    for i in range(0,len(responce)):\n",
    "        my_dict[responce[i]['id']] = responce[i]['title']\n",
    "        try:\n",
    "            len(responce[i]['child_nodes'])\n",
    "        except:\n",
    "            continue\n",
    "        for j in range(0,len(responce[i]['child_nodes'])):\n",
    "            my_dict[responce[i]['child_nodes'][j]['id']] = responce[i]['child_nodes'][j]['title']\n",
    "            try:\n",
    "                len(responce[i]['child_nodes'][j]['child_nodes'])\n",
    "            except:\n",
    "                continue\n",
    "            for k in range(0,len(responce[i]['child_nodes'][j]['child_nodes'])):\n",
    "                my_dict[responce[i]['child_nodes'][j]['child_nodes'][k]['id']] = responce[i]['child_nodes'][j]['child_nodes'][k]['title']\n",
    "                try:\n",
    "                    len(responce[i]['child_nodes'][j]['child_nodes'][k]['child_nodes'])\n",
    "                except:\n",
    "                    continue\n",
    "                for l in range(0,len(responce[i]['child_nodes'][j]['child_nodes'][k]['child_nodes'])):\n",
    "                    my_dict[responce[i]['child_nodes'][j]['child_nodes'][k]['child_nodes'][l]['id']] = responce[i]['child_nodes'][j]['child_nodes'][k]['child_nodes'][l]['title']\n",
    "    return my_dict            \n",
    "    "
   ]
  },
  {
   "cell_type": "code",
   "execution_count": null,
   "metadata": {},
   "outputs": [],
   "source": [
    "dt=create_dict('2fbcdb5d-0682-4cca-b979-076d0119e3d3')\n",
    "dt['d51dc441-7630-3a6b-b9da-21316e49b7a3']"
   ]
  },
  {
   "cell_type": "code",
   "execution_count": 5,
   "metadata": {},
   "outputs": [],
   "source": [
    "def main(msgs, jcid, write_excel, row):\n",
    "    \n",
    "    url = \"https://s-file-1.ykt.cbern.com.cn/zxx/ndrs/prepare_lesson/teachingmaterials/{}/resources/part_100.json\".format(jcid)\n",
    "\n",
    "    responce = requests.get(url).json()\n",
    "\n",
    "    my_dict = create_dict(jcid)#目录编码对应的字典\n",
    "    \n",
    "    for i in range(0,len(responce)):\n",
    "        try:\n",
    "            rel = list(responce[i]['relations'].keys())\n",
    "        except:\n",
    "            continue\n",
    "        for r in rel:\n",
    "            for j in range(0,len(responce[i]['relations'][r])):\n",
    "                try:\n",
    "                    responce[i]['relations'][r][j]['resource_type_code']\n",
    "                except:\n",
    "                    continue\n",
    "                if responce[i]['relations'][r][j]['resource_type_code'] == \"lesson_plandesign\":\n",
    "                    link_id = responce[i]['relations'][r][j]['id']\n",
    "                    flag = 0\n",
    "                    url1 = \"https://s-file-1.ykt.cbern.com.cn/zxx/ndrv2/prepare_sub_type/resources/details/{}.json\".format(link_id)\n",
    "\n",
    "                    responce1 = requests.get(url1).json()\n",
    "                    try:\n",
    "                        for d in range(len(responce1['ti_items'][1]['ti_storages'])):\n",
    "                            if responce1['ti_items'][d]['ti_file_flag'] == 'source':   \n",
    "                                flag = 1 \n",
    "                                dlink = responce1['ti_items'][d]['ti_storages'][0].replace('-private', '')\n",
    "                                break\n",
    "                    except:\n",
    "                         continue\n",
    "                    \n",
    "                    if flag == 0:\n",
    "                        continue\n",
    "\n",
    "                    write_excel.write(row,9,dlink)\n",
    "\n",
    "                    write_excel.write(row,0,'国家中小学智慧教育平台')\n",
    "                    write_excel.write(row,1,msgs[0])\n",
    "                    write_excel.write(row,2,msgs[1])\n",
    "                    write_excel.write(row,3,msgs[2])\n",
    "                    write_excel.write(row,4,msgs[3])\n",
    "                    for k in range(0,len(responce[i]['chapter_ids'])):\n",
    "                        write_excel.write(row,5+k,my_dict[responce[i]['chapter_ids'][k]])#保存目录\n",
    "                    row += 1\n",
    "                    break\n",
    "                else:\n",
    "                    continue         \n",
    "    return row"
   ]
  },
  {
   "cell_type": "code",
   "execution_count": 6,
   "metadata": {},
   "outputs": [
    {
     "name": "stderr",
     "output_type": "stream",
     "text": [
      "100%|██████████| 1871/1871 [7:04:43<00:00, 13.62s/it]   \n"
     ]
    }
   ],
   "source": [
    "if __name__ == '__main__':\n",
    "\n",
    "    result = read_yaml(\"../../settings/settings.yaml\")\n",
    "\n",
    "    jc_st = xlrd.open_workbook(result['teaching_jcb_excel_path']).sheet_by_index(0)\n",
    "\n",
    "    new_excel, write_excel, st = excel(result)\n",
    "\n",
    "    row = st.nrows\n",
    "\n",
    "    # msgs = ['小学','语文','统编版','一年级下册']\n",
    "\n",
    "\n",
    "    for l in tqdm(range(1, jc_st.nrows)):\n",
    "        #对于每一行，使用列表推导式将该行的每个单元格的值转换为字符串，并将这些字符串值存储在 lie 列表中\n",
    "        lie = [str(jc_st.cell_value(l, i)) for i in range(0, jc_st.ncols)]\n",
    "        \n",
    "        row = main(lie[0:4], lie[4], write_excel, row)\n",
    "            \n",
    "    new_excel.save(result['teaching_plan_excel_path'])\n",
    "    "
   ]
  },
  {
   "cell_type": "code",
   "execution_count": null,
   "metadata": {},
   "outputs": [],
   "source": [
    "new_excel.save(result['teaching_plan_excel_path'])"
   ]
  }
 ],
 "metadata": {
  "kernelspec": {
   "display_name": "base",
   "language": "python",
   "name": "python3"
  },
  "language_info": {
   "codemirror_mode": {
    "name": "ipython",
    "version": 3
   },
   "file_extension": ".py",
   "mimetype": "text/x-python",
   "name": "python",
   "nbconvert_exporter": "python",
   "pygments_lexer": "ipython3",
   "version": "3.8.17"
  }
 },
 "nbformat": 4,
 "nbformat_minor": 2
}
