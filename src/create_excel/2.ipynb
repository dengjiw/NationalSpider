{
 "cells": [
  {
   "cell_type": "code",
   "execution_count": 1,
   "metadata": {},
   "outputs": [],
   "source": [
    "import requests\n",
    "import xlrd\n",
    "import yaml\n",
    "from xlutils.copy import copy\n",
    "from tqdm import tqdm"
   ]
  },
  {
   "cell_type": "code",
   "execution_count": 2,
   "metadata": {},
   "outputs": [],
   "source": [
    "def read_yaml(yaml_path):\n",
    "    with open(yaml_path, encoding=\"utf-8\", mode=\"r\") as f:\n",
    "        result = yaml.load(stream=f,Loader=yaml.FullLoader)\n",
    "        return result"
   ]
  },
  {
   "cell_type": "code",
   "execution_count": 3,
   "metadata": {},
   "outputs": [],
   "source": [
    "def excel(result):\n",
    "\n",
    "    wb = xlrd.open_workbook(result['example_excel_path'])\n",
    "    st = wb.sheet_by_index(0)  # sheet索引从0开始\n",
    "\n",
    "    excel = copy(wb)\n",
    "\n",
    "    write_excel = excel.get_sheet(0)\n",
    "\n",
    "    return excel, write_excel, st"
   ]
  },
  {
   "cell_type": "code",
   "execution_count": 4,
   "metadata": {},
   "outputs": [],
   "source": [
    "def create_dict(jcid):\n",
    "    url = 'https://s-file-1.ykt.cbern.com.cn/zxx/ndrs/prepare_lesson/trees/{}.json'.format(jcid)\n",
    "    responce = requests.get(url).json()\n",
    "    my_dict = {}\n",
    "    for i in range(0,len(responce)):\n",
    "        my_dict[responce[i]['id']] = responce[i]['title']\n",
    "        try:\n",
    "            len(responce[i]['child_nodes'])\n",
    "        except:\n",
    "            continue\n",
    "        for j in range(0,len(responce[i]['child_nodes'])):\n",
    "            my_dict[responce[i]['child_nodes'][j]['id']] = responce[i]['child_nodes'][j]['title']\n",
    "            try:\n",
    "                len(responce[i]['child_nodes'][j]['child_nodes'])\n",
    "            except:\n",
    "                continue\n",
    "            for k in range(0,len(responce[i]['child_nodes'][j]['child_nodes'])):\n",
    "                my_dict[responce[i]['child_nodes'][j]['child_nodes'][k]['id']] = responce[i]['child_nodes'][j]['child_nodes'][k]['title']\n",
    "                try:\n",
    "                    len(responce[i]['child_nodes'][j]['child_nodes'][k]['child_nodes'])\n",
    "                except:\n",
    "                    continue\n",
    "                for l in range(0,len(responce[i]['child_nodes'][j]['child_nodes'][k]['child_nodes'])):\n",
    "                    my_dict[responce[i]['child_nodes'][j]['child_nodes'][k]['child_nodes'][l]['id']] = responce[i]['child_nodes'][j]['child_nodes'][k]['child_nodes'][l]['title']\n",
    "    return my_dict            \n",
    "    "
   ]
  },
  {
   "cell_type": "code",
   "execution_count": 5,
   "metadata": {},
   "outputs": [
    {
     "data": {
      "text/plain": [
       "'识字加油站+书写提示+日积月累'"
      ]
     },
     "execution_count": 5,
     "metadata": {},
     "output_type": "execute_result"
    }
   ],
   "source": [
    "dt=create_dict('2fbcdb5d-0682-4cca-b979-076d0119e3d3')\n",
    "dt['d51dc441-7630-3a6b-b9da-21316e49b7a3']"
   ]
  },
  {
   "cell_type": "code",
   "execution_count": 6,
   "metadata": {},
   "outputs": [],
   "source": [
    "def main(msgs, jcid, write_excel, row):\n",
    "    \n",
    "    url = \"https://s-file-1.ykt.cbern.com.cn/zxx/ndrs/prepare_lesson/teachingmaterials/{}/resources/part_100.json\".format(jcid)\n",
    "\n",
    "    responce = requests.get(url).json()\n",
    "\n",
    "    my_dict = create_dict(jcid)#目录编码对应的字典\n",
    "    \n",
    "    for i in range(0,len(responce)):\n",
    "        try:\n",
    "            plan_len = len(responce[i]['relations']['lesson_plan_design'])\n",
    "        except:\n",
    "            continue\n",
    "        \n",
    "        #保存下载链接\n",
    "        for j in range(0,plan_len):\n",
    "\n",
    "            link_id = responce[i]['relations']['lesson_plan_design'][j]['custom_properties']['thumbnails'][0].split('/')\n",
    "            try:#如果没有链接或者链接错误，则跳过这个循环\n",
    "                dlink = 'https://r1-ndr.ykt.cbern.com.cn/edu_product/esp/assets_document/{}/zh-CN/{}/transcode/pdf.pdf'.format(link_id[6],link_id[8])\n",
    "            except:\n",
    "                continue\n",
    "            \n",
    "            write_excel.write(row,9,dlink)\n",
    "\n",
    "            write_excel.write(row,0,'国家中小学智慧教育平台')\n",
    "            write_excel.write(row,1,msgs[0])\n",
    "            write_excel.write(row,2,msgs[1])\n",
    "            write_excel.write(row,3,msgs[2])\n",
    "            write_excel.write(row,4,msgs[3])\n",
    "            for k in range(0,len(responce[i]['chapter_ids'])):\n",
    "                write_excel.write(row,5+k,my_dict[responce[i]['chapter_ids'][k]])#保存目录\n",
    "            \n",
    "            row += 1\n",
    "    return row"
   ]
  },
  {
   "cell_type": "code",
   "execution_count": 7,
   "metadata": {},
   "outputs": [
    {
     "name": "stderr",
     "output_type": "stream",
     "text": [
      "100%|██████████| 1871/1871 [47:05<00:00,  1.51s/it] \n"
     ]
    }
   ],
   "source": [
    "if __name__ == '__main__':\n",
    "\n",
    "    result = read_yaml(\"../../settings/settings.yaml\")\n",
    "\n",
    "    jc_st = xlrd.open_workbook(result['teaching_jcb_excel_path']).sheet_by_index(0)\n",
    "\n",
    "    new_excel, write_excel, st = excel(result)\n",
    "\n",
    "    row = st.nrows\n",
    "\n",
    "    # msgs = ['小学','语文','统编版','一年级下册']\n",
    "\n",
    "\n",
    "    for l in tqdm(range(1, jc_st.nrows)):\n",
    "        #对于每一行，使用列表推导式将该行的每个单元格的值转换为字符串，并将这些字符串值存储在 lie 列表中\n",
    "        lie = [str(jc_st.cell_value(l, i)) for i in range(0, jc_st.ncols)]\n",
    "        \n",
    "        row = main(lie[0:4], lie[4], write_excel, row)\n",
    "            \n",
    "    new_excel.save(result['teaching_plan_excel_path'])\n",
    "    "
   ]
  },
  {
   "cell_type": "code",
   "execution_count": null,
   "metadata": {},
   "outputs": [],
   "source": [
    "new_excel.save(result['teaching_plan_excel_path'])"
   ]
  }
 ],
 "metadata": {
  "kernelspec": {
   "display_name": "base",
   "language": "python",
   "name": "python3"
  },
  "language_info": {
   "codemirror_mode": {
    "name": "ipython",
    "version": 3
   },
   "file_extension": ".py",
   "mimetype": "text/x-python",
   "name": "python",
   "nbconvert_exporter": "python",
   "pygments_lexer": "ipython3",
   "version": "3.8.17"
  }
 },
 "nbformat": 4,
 "nbformat_minor": 2
}
