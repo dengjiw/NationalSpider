{
 "cells": [
  {
   "cell_type": "code",
   "execution_count": 1,
   "metadata": {},
   "outputs": [],
   "source": [
    "import requests\n",
    "import json\n",
    "import xlrd\n",
    "import yaml\n",
    "from xlutils.copy import copy\n",
    "from tqdm import tqdm"
   ]
  },
  {
   "cell_type": "code",
   "execution_count": 2,
   "metadata": {},
   "outputs": [],
   "source": [
    "def read_yaml(yaml_path):\n",
    "    with open(yaml_path, encoding=\"utf-8\", mode=\"r\") as f:\n",
    "        result = yaml.load(stream=f,Loader=yaml.FullLoader)\n",
    "        return result"
   ]
  },
  {
   "cell_type": "code",
   "execution_count": 3,
   "metadata": {},
   "outputs": [],
   "source": [
    "wb = xlrd.open_workbook('../../data/excel/教材表.xls')\n",
    "\n",
    "st = wb.sheet_by_index(0)  # sheet索引从0开始\n",
    "\n",
    "new_excel = copy(wb)\n",
    "\n",
    "write_excel = new_excel.get_sheet(0)"
   ]
  },
  {
   "cell_type": "code",
   "execution_count": 4,
   "metadata": {},
   "outputs": [
    {
     "data": {
      "text/plain": [
       "1"
      ]
     },
     "execution_count": 4,
     "metadata": {},
     "output_type": "execute_result"
    }
   ],
   "source": [
    "st.nrows"
   ]
  },
  {
   "cell_type": "code",
   "execution_count": 7,
   "metadata": {},
   "outputs": [
    {
     "name": "stderr",
     "output_type": "stream",
     "text": [
      "100%|██████████| 1000/1000 [00:00<00:00, 14744.79it/s]\n",
      "100%|██████████| 871/871 [00:00<00:00, 15047.28it/s]\n"
     ]
    }
   ],
   "source": [
    "url1 = \"https://s-file-2.ykt.cbern.com.cn/zxx/ndrs/prepare_lesson/teachingmaterials/part_100.json\"\n",
    "url2 = \"https://s-file-2.ykt.cbern.com.cn/zxx/ndrs/prepare_lesson/teachingmaterials/part_101.json\"\n",
    "responce1 = requests.get(url1).json()\n",
    "responce2 = requests.get(url2).json()\n",
    "\n",
    "for i in tqdm(range(0,len(responce1))):\n",
    "    nj = ''\n",
    "    cc = ''\n",
    "    for j in range(0,len(responce1[i][\"tag_list\"])):\n",
    "        if responce1[i][\"tag_list\"][j][\"tag_dimension_id\"] == 'zxxxd':\n",
    "            write_excel.write(i+1, 0,responce1[i][\"tag_list\"][j][\"tag_name\"])\n",
    "        elif responce1[i][\"tag_list\"][j][\"tag_dimension_id\"] == 'zxxxk':\n",
    "            write_excel.write(i+1, 1,responce1[i][\"tag_list\"][j][\"tag_name\"])\n",
    "        elif responce1[i][\"tag_list\"][j][\"tag_dimension_id\"] == 'zxxbb':\n",
    "            write_excel.write(i+1, 2,responce1[i][\"tag_list\"][j][\"tag_name\"])\n",
    "        elif responce1[i][\"tag_list\"][j][\"tag_dimension_id\"] == 'zxxnj':\n",
    "            nj = responce1[i][\"tag_list\"][j][\"tag_name\"]\n",
    "        elif responce1[i][\"tag_list\"][j][\"tag_dimension_id\"] == 'zxxcc':\n",
    "            cc = responce1[i][\"tag_list\"][j][\"tag_name\"]\n",
    "        write_excel.write(i+1, 3,nj+cc)\n",
    "\n",
    "    write_excel.write(i+1, 4,responce1[i][\"id\"])\n",
    "k = len(responce1)+1\n",
    "for i in tqdm(range(0,len(responce2))):\n",
    "    nj = ''\n",
    "    cc = ''\n",
    "    for j in range(0,len(responce2[i][\"tag_list\"])):\n",
    "        if responce2[i][\"tag_list\"][j][\"tag_dimension_id\"] == 'zxxxd':\n",
    "            write_excel.write(i+k, 0,responce2[i][\"tag_list\"][j][\"tag_name\"])\n",
    "        elif responce2[i][\"tag_list\"][j][\"tag_dimension_id\"] == 'zxxxk':\n",
    "            write_excel.write(i+k, 1,responce2[i][\"tag_list\"][j][\"tag_name\"])\n",
    "        elif responce2[i][\"tag_list\"][j][\"tag_dimension_id\"] == 'zxxbb':\n",
    "            write_excel.write(i+k, 2,responce2[i][\"tag_list\"][j][\"tag_name\"])\n",
    "        elif responce2[i][\"tag_list\"][j][\"tag_dimension_id\"] == 'zxxnj':\n",
    "            nj = responce2[i][\"tag_list\"][j][\"tag_name\"]\n",
    "        elif responce2[i][\"tag_list\"][j][\"tag_dimension_id\"] == 'zxxcc':\n",
    "            cc = responce2[i][\"tag_list\"][j][\"tag_name\"]\n",
    "        write_excel.write(i+k, 3,nj+cc)\n",
    "    \n",
    "    write_excel.write(i+k, 4,responce2[i][\"id\"])\n",
    "new_excel.save('../../data/excel/教材表1218.xls')"
   ]
  }
 ],
 "metadata": {
  "kernelspec": {
   "display_name": "base",
   "language": "python",
   "name": "python3"
  },
  "language_info": {
   "codemirror_mode": {
    "name": "ipython",
    "version": 3
   },
   "file_extension": ".py",
   "mimetype": "text/x-python",
   "name": "python",
   "nbconvert_exporter": "python",
   "pygments_lexer": "ipython3",
   "version": "3.8.17"
  }
 },
 "nbformat": 4,
 "nbformat_minor": 2
}
