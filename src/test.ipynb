{
 "cells": [
  {
   "cell_type": "code",
   "execution_count": null,
   "metadata": {},
   "outputs": [],
   "source": [
    "import os\n",
    "import requests\n",
    "import xlrd\n",
    "import yaml\n",
    "from tqdm import tqdm"
   ]
  },
  {
   "cell_type": "code",
   "execution_count": null,
   "metadata": {},
   "outputs": [],
   "source": [
    "path = '../../data/result/10-+小学/统编版/三年级上册/第二单元/7 听听，秋的声音'\n",
    "path_final = os.path.normpath(path)\n",
    "if not os.path.exists(path_final):\n",
    "        os.makedirs(path_final)"
   ]
  },
  {
   "cell_type": "code",
   "execution_count": null,
   "metadata": {},
   "outputs": [],
   "source": [
    "str = \"https://r1-ndr.ykt.cbern.com.cn/edu_product/esp/assets_document/db0efdd6-988e-0c9d-3b0d-3efe780f6681.t/zh-CN/1658844196292/transcode/image/1.jpg?v=1659087814097\""
   ]
  },
  {
   "cell_type": "code",
   "execution_count": null,
   "metadata": {},
   "outputs": [],
   "source": [
    "str = str.split('/')\n"
   ]
  },
  {
   "cell_type": "code",
   "execution_count": null,
   "metadata": {},
   "outputs": [],
   "source": [
    "len(str)\n",
    "for i in str:\n",
    "    print(i)"
   ]
  },
  {
   "cell_type": "code",
   "execution_count": null,
   "metadata": {},
   "outputs": [],
   "source": [
    "url = \"https://s-file-1.ykt.cbern.com.cn/zxx/ndrs/prepare_lesson/teachingmaterials/{}/resources/part_100.json\".format('c86543a9-4b6a-4d79-8353-c805af23273c')\n",
    "\n",
    "responce = requests.get(url).json()"
   ]
  },
  {
   "cell_type": "code",
   "execution_count": null,
   "metadata": {},
   "outputs": [],
   "source": [
    "x = responce[61][\"relations\"].keys()\n",
    "x = list(x)\n",
    "print(x)"
   ]
  },
  {
   "cell_type": "code",
   "execution_count": null,
   "metadata": {},
   "outputs": [],
   "source": [
    "for i in x:\n",
    "    print(responce[61][\"relations\"][i][6]['resource_type_code'])   \n",
    "    break"
   ]
  },
  {
   "cell_type": "code",
   "execution_count": null,
   "metadata": {},
   "outputs": [],
   "source": [
    "import os\n",
    "\n",
    "def count_files(directory):\n",
    "    count = 0\n",
    "    for root, dirs, files in os.walk(directory):\n",
    "        count += len(files)\n",
    "    return count\n",
    "\n",
    "folder_path = '../data/result/按目录存储'\n",
    "result = count_files(folder_path)\n",
    "print(f\"Total files in {folder_path} and its subfolders: {result}\")"
   ]
  },
  {
   "cell_type": "code",
   "execution_count": null,
   "metadata": {},
   "outputs": [],
   "source": [
    "import os\n",
    "\n",
    "folder_path = '../data/result/全部教案'\n",
    "files = os.listdir(folder_path)\n",
    "\n",
    "for file in files:\n",
    "    l = file.split('_')\n",
    "    print(l)\n",
    "    print(len(l))"
   ]
  },
  {
   "cell_type": "code",
   "execution_count": 1,
   "metadata": {},
   "outputs": [],
   "source": [
    "import requests\n",
    "import xlrd\n",
    "import yaml\n",
    "from xlutils.copy import copy\n",
    "from tqdm import tqdm"
   ]
  },
  {
   "cell_type": "code",
   "execution_count": 27,
   "metadata": {},
   "outputs": [
    {
     "name": "stdout",
     "output_type": "stream",
     "text": [
      "https://r1-ndr.ykt.cbern.com.cn/edu_product/esp/assets_document/0bba1f8b-21bf-e8f2-8ca5-6a9ab619fee4.t/zh-CN/1658849040095/transcode/pdf.pdf\n",
      "0bba1f8b-21bf-e8f2-8ca5-6a9ab619fee4.t\n"
     ]
    }
   ],
   "source": [
    "url = \"https://s-file-1.ykt.cbern.com.cn/zxx/ndrs/prepare_lesson/teachingmaterials/{}/resources/part_100.json\".format('267397d5-8180-4995-a5e6-71a756e64388')\n",
    "\n",
    "responce = requests.get(url).json()\n",
    "flag = 0\n",
    "for i in range(0,len(responce)):\n",
    "        try:\n",
    "            rel = list(responce[i]['relations'].keys())\n",
    "        except:\n",
    "            continue\n",
    "        for r in rel:\n",
    "            for j in range(0,len(responce[i]['relations'][r])):\n",
    "                try:\n",
    "                    responce[i]['relations'][r][j]['resource_type_code']\n",
    "                except:\n",
    "                    continue\n",
    "                if responce[i]['relations'][r][j]['resource_type_code'] == \"lesson_plandesign\":\n",
    "                    link_id = responce[i]['relations'][r][j]['custom_properties']['thumbnails'][0].split('/')\n",
    "                    \n",
    "                    flag = 0 \n",
    "\n",
    "                    url1 = \"https://s-file-1.ykt.cbern.com.cn/zxx/ndrv2/prepare_sub_type/resources/details/{}.json\".format(link_id[6].replace('.t',''))\n",
    "                    # url2 = \"https://s-file-1.ykt.cbern.com.cn/zxx/ndrv2/prepare_sub_type/resources/details/acb699e2-5520-4422-8a69-47a741e1ebaf.json\"\n",
    "\n",
    "                    responce1 = requests.get(url1).json()\n",
    "                    try:\n",
    "                        for d in range(len(responce1['ti_items'][1]['ti_storages'])):\n",
    "                             if responce1['ti_items'][d]['ti_file_flag'] == 'pdf':   \n",
    "                                flag = 1 \n",
    "                                dlink = responce1['ti_items'][d]['ti_storages'][0].replace('-private', '')\n",
    "                                print(dlink)\n",
    "                                break\n",
    "                             else:\n",
    "                                 continue\n",
    "                    except:\n",
    "                         continue\n",
    "                    # if flag == 0:\n",
    "                    #     continue\n",
    "\n",
    "                    print(link_id[6])\n",
    "                    \n",
    "        if flag == 1:\n",
    "             break\n",
    "        \n",
    "\n"
   ]
  }
 ],
 "metadata": {
  "kernelspec": {
   "display_name": "base",
   "language": "python",
   "name": "python3"
  },
  "language_info": {
   "codemirror_mode": {
    "name": "ipython",
    "version": 3
   },
   "file_extension": ".py",
   "mimetype": "text/x-python",
   "name": "python",
   "nbconvert_exporter": "python",
   "pygments_lexer": "ipython3",
   "version": "3.8.17"
  }
 },
 "nbformat": 4,
 "nbformat_minor": 2
}
