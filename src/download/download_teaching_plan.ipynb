{
 "cells": [
  {
   "cell_type": "code",
   "execution_count": 2,
   "metadata": {},
   "outputs": [],
   "source": [
    "import requests\n",
    "import xlrd\n",
    "import yaml\n",
    "from tqdm import tqdm"
   ]
  },
  {
   "cell_type": "code",
   "execution_count": 3,
   "metadata": {},
   "outputs": [],
   "source": [
    "def read_yaml(yaml_path):\n",
    "    with open(yaml_path, encoding=\"utf-8\", mode=\"r\") as f:\n",
    "        result = yaml.load(stream=f,Loader=yaml.FullLoader)\n",
    "        return result\n",
    "\n",
    "def download(url, title, root, path):\n",
    "    # print(url, title, root, path)\n",
    "\n",
    "    content = requests.get(url).content\n",
    "\n",
    "    # path_final = root+'/'+path\n",
    "\n",
    "    suffix = url.split(\".\")[-1]\n",
    "\n",
    "    # if not os.path.exists(path_final):\n",
    "    #     os.makedirs(path_final)\n",
    "\n",
    "    with open(\"{}/{}.{}\".format(root, title, suffix), \"wb\") as f:\n",
    "        f.write(content)\n",
    "\n",
    "def replace(input_text):\n",
    "    # 将特殊字符替换成短横线\n",
    "    replaced_text = (\n",
    "        input_text\n",
    "        .replace('\\\\', ' ')\n",
    "        .replace('/', ' ')\n",
    "        .replace(':', ' ')\n",
    "        .replace('*', ' ')\n",
    "        .replace('?', ' ')\n",
    "        .replace('\"', ' ')\n",
    "        .replace('<', ' ')\n",
    "        .replace('>', ' ')\n",
    "        .replace('|', ' ')\n",
    "        .replace('.', ' ')\n",
    "        .strip()\n",
    "    )\n",
    "    return replaced_text"
   ]
  },
  {
   "cell_type": "code",
   "execution_count": 4,
   "metadata": {},
   "outputs": [],
   "source": [
    "def main():\n",
    "    result = read_yaml(\"../../settings/settings.yaml\")\n",
    "\n",
    "    workbook = xlrd.open_workbook(result['teaching_plan_excel_path'])\n",
    "\n",
    "    st = workbook.sheet_by_index(0)\n",
    "\n",
    "    path_arr = []\n",
    "\n",
    "    link_arr = []\n",
    "\n",
    "    download_name_arr = []\n",
    "\n",
    "    # for l in range(1, st.nrows):\n",
    "    for l in range(1, st.nrows):\n",
    "        #对于每一行，使用列表推导式将该行的每个单元格的值转换为字符串，并将这些字符串值存储在 lie 列表中\n",
    "        lie = [str(st.cell_value(l, i)) for i in range(0, st.ncols)]\n",
    "\n",
    "        # 如果不存在下载链接，则跳过这一行\n",
    "        if len(lie[9]) == 0:\n",
    "            continue\n",
    "\n",
    "        if len(lie[8]) == 0:\n",
    "            if len(lie[7]) == 0:\n",
    "                if len(lie[6]) == 0:\n",
    "                    # path = lie[1]+'/'+lie[2]+'/'+lie[3]+'/'+lie[4]+'/'+str(l)+'-+'+replace(lie[5])\n",
    "                    # 文件下载名字\n",
    "                    download_name_arr.append(str(l)+'-+'+replace(lie[5]))\n",
    "                else:\n",
    "                    # path = lie[1]+'/'+lie[2]+'/'+lie[3]+'/'+lie[4]+'/'+replace(lie[5])+'/'+str(l)+'-+'+replace(lie[6])\n",
    "                    # 文件下载名字\n",
    "                    download_name_arr.append(str(l)+'-+'+replace(lie[6]))\n",
    "            else:\n",
    "                # path = lie[1]+'/'+lie[2]+'/'+lie[3]+'/'+lie[4]+'/'+replace(lie[5])+'/'+replace(lie[6])+'/'+str(l)+'-+'+replace(lie[7])\n",
    "                # 文件下载名字\n",
    "                download_name_arr.append(str(l)+'-+'+replace(lie[7]))\n",
    "        else:\n",
    "            # path = lie[1]+'/'+lie[2]+'/'+lie[3]+'/'+lie[4]+'/'+replace(lie[5])+'/'+replace(lie[6])+'/'+replace(lie[7])+'/'+str(l)+'-+'+replace(lie[8])\n",
    "            # 文件下载名字\n",
    "            download_name_arr.append(str(l)+'-+'+replace(lie[8]))\n",
    "\n",
    "        link = lie[9]\n",
    "\n",
    "        # path_arr.append(path)\n",
    "\n",
    "        link_arr.append(link)\n",
    "\n",
    "    return path_arr,link_arr, download_name_arr, result"
   ]
  },
  {
   "cell_type": "code",
   "execution_count": 9,
   "metadata": {},
   "outputs": [
    {
     "name": "stderr",
     "output_type": "stream",
     "text": [
      "100%|██████████| 10113/10113 [2:09:47<00:00,  1.30it/s]  \n"
     ]
    }
   ],
   "source": [
    "path_arr,link_arr, download_name_arr, result = main()\n",
    "\n",
    "for i in tqdm(range(6158,len(link_arr))):\n",
    "    download(link_arr[i],download_name_arr[i],result['teaching_plan_download_path'],path_arr)"
   ]
  }
 ],
 "metadata": {
  "kernelspec": {
   "display_name": "base",
   "language": "python",
   "name": "python3"
  },
  "language_info": {
   "codemirror_mode": {
    "name": "ipython",
    "version": 3
   },
   "file_extension": ".py",
   "mimetype": "text/x-python",
   "name": "python",
   "nbconvert_exporter": "python",
   "pygments_lexer": "ipython3",
   "version": "3.8.17"
  }
 },
 "nbformat": 4,
 "nbformat_minor": 2
}
