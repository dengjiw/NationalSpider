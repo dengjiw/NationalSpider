{
 "cells": [
  {
   "cell_type": "code",
   "execution_count": 1,
   "metadata": {},
   "outputs": [],
   "source": [
    "import os\n",
    "import xlrd\n",
    "import yaml\n",
    "from tqdm import tqdm\n",
    "import shutil\n",
    "from docx import Document"
   ]
  },
  {
   "cell_type": "code",
   "execution_count": 31,
   "metadata": {},
   "outputs": [],
   "source": [
    "def create(path):\n",
    "\n",
    "    path_final = '../data/directory/'+path\n",
    "\n",
    "    if not os.path.exists(path_final):\n",
    "        os.makedirs(path_final)\n",
    "    "
   ]
  },
  {
   "cell_type": "code",
   "execution_count": 34,
   "metadata": {},
   "outputs": [],
   "source": [
    "def replace(input_text):\n",
    "    # 将特殊字符替换成短横线\n",
    "    replaced_text = (\n",
    "        input_text\n",
    "        .replace('\\\\', ' ')\n",
    "        .replace('/', ' ')\n",
    "        .replace(':', ' ')\n",
    "        .replace('*', ' ')\n",
    "        .replace('?', ' ')\n",
    "        .replace('\"', ' ')\n",
    "        .replace('<', ' ')\n",
    "        .replace('>', ' ')\n",
    "        .replace('|', ' ')\n",
    "        .replace('.', ' ')\n",
    "        .strip()\n",
    "    )\n",
    "    return replaced_text"
   ]
  },
  {
   "cell_type": "code",
   "execution_count": 33,
   "metadata": {},
   "outputs": [],
   "source": [
    "def main():\n",
    "    workbook = xlrd.open_workbook('../data/excel/目录.xls')\n",
    "\n",
    "    st = workbook.sheet_by_index(0)\n",
    "\n",
    "    path_arr = []\n",
    "\n",
    "    # for l in range(1, st.nrows):\n",
    "    for l in range(1, st.nrows):\n",
    "        #对于每一行，使用列表推导式将该行的每个单元格的值转换为字符串，并将这些字符串值存储在 lie 列表中\n",
    "        lie = [str(st.cell_value(l, i)) for i in range(0, st.ncols)]\n",
    "        path = ''\n",
    "        for j in range(15):\n",
    "            if len(lie[j]) != 0:\n",
    "                \n",
    "                if j % 2 == 0:\n",
    "                    path += '/'\n",
    "                    path += lie[j][:-2]\n",
    "                    path += '-+'\n",
    "                else:\n",
    "                    path += replace(lie[j])\n",
    "            else:\n",
    "                break\n",
    "\n",
    "        \n",
    "\n",
    "        path_arr.append(path)\n",
    "\n",
    "\n",
    "    return path_arr"
   ]
  },
  {
   "cell_type": "code",
   "execution_count": 35,
   "metadata": {},
   "outputs": [],
   "source": [
    "path_arr= main()"
   ]
  },
  {
   "cell_type": "code",
   "execution_count": 38,
   "metadata": {},
   "outputs": [
    {
     "data": {
      "text/plain": [
       "'/30-+高中/4002-+数学/5011-+人教版新课标/23021-+高二上/110266001-+第一章 导数及其应用'"
      ]
     },
     "execution_count": 38,
     "metadata": {},
     "output_type": "execute_result"
    }
   ],
   "source": [
    "path_arr[0]"
   ]
  },
  {
   "cell_type": "code",
   "execution_count": 39,
   "metadata": {},
   "outputs": [
    {
     "name": "stderr",
     "output_type": "stream",
     "text": [
      "100%|██████████| 53328/53328 [00:20<00:00, 2580.29it/s]\n"
     ]
    }
   ],
   "source": [
    "path_arr= main()\n",
    "\n",
    "for i in tqdm(range(1,len(path_arr))):\n",
    "    create(path_arr[i])"
   ]
  }
 ],
 "metadata": {
  "kernelspec": {
   "display_name": "base",
   "language": "python",
   "name": "python3"
  },
  "language_info": {
   "codemirror_mode": {
    "name": "ipython",
    "version": 3
   },
   "file_extension": ".py",
   "mimetype": "text/x-python",
   "name": "python",
   "nbconvert_exporter": "python",
   "pygments_lexer": "ipython3",
   "version": "3.8.17"
  }
 },
 "nbformat": 4,
 "nbformat_minor": 2
}
