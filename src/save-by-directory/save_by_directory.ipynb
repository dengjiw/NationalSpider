{
 "cells": [
  {
   "cell_type": "code",
   "execution_count": 1,
   "metadata": {},
   "outputs": [],
   "source": [
    "import os\n",
    "import xlrd\n",
    "import yaml\n",
    "from tqdm import tqdm\n",
    "import shutil\n",
    "from docx import Document"
   ]
  },
  {
   "cell_type": "code",
   "execution_count": 2,
   "metadata": {},
   "outputs": [],
   "source": [
    "def read_yaml(yaml_path):\n",
    "    with open(yaml_path, encoding=\"utf-8\", mode=\"r\") as f:\n",
    "        result = yaml.load(stream=f,Loader=yaml.FullLoader)\n",
    "        return result\n",
    "\n",
    "def save(title, root, path, word_path):\n",
    "\n",
    "    path_final = root+'/'+path\n",
    "\n",
    "    if not os.path.exists(path_final):\n",
    "        os.makedirs(path_final)\n",
    "    \n",
    "    file_name = title+'.docx'\n",
    "\n",
    "    src_path = os.path.join(word_path, file_name) #源文件路径\n",
    "    dest_path = os.path.join(path_final, file_name) #目标文件路径\n",
    "    if os.path.exists(src_path):\n",
    "        shutil.copy(src_path, dest_path)\n",
    "    else:\n",
    "        # 创建一个新的文档对象\n",
    "        doc = Document()\n",
    "        # 保存文档\n",
    "        doc.save(dest_path)\n",
    "    \n",
    "\n",
    "    \n",
    "\n",
    "def replace(input_text):\n",
    "    # 将特殊字符替换成短横线\n",
    "    replaced_text = (\n",
    "        input_text\n",
    "        .replace('\\\\', ' ')\n",
    "        .replace('/', ' ')\n",
    "        .replace(':', ' ')\n",
    "        .replace('*', ' ')\n",
    "        .replace('?', ' ')\n",
    "        .replace('\"', ' ')\n",
    "        .replace('<', ' ')\n",
    "        .replace('>', ' ')\n",
    "        .replace('|', ' ')\n",
    "        .replace('.', ' ')\n",
    "        .strip()\n",
    "    )\n",
    "    return replaced_text"
   ]
  },
  {
   "cell_type": "code",
   "execution_count": 3,
   "metadata": {},
   "outputs": [],
   "source": [
    "def main():\n",
    "    result = read_yaml(\"../../settings/settings.yaml\")\n",
    "\n",
    "    workbook = xlrd.open_workbook(result['teaching_plan_excel_path'])\n",
    "\n",
    "    st = workbook.sheet_by_index(0)\n",
    "\n",
    "    path_arr = []\n",
    "\n",
    "    download_name_arr = []\n",
    "\n",
    "    # for l in range(1, st.nrows):\n",
    "    for l in range(1, st.nrows):\n",
    "        #对于每一行，使用列表推导式将该行的每个单元格的值转换为字符串，并将这些字符串值存储在 lie 列表中\n",
    "        lie = [str(st.cell_value(l, i)) for i in range(0, st.ncols)]\n",
    "\n",
    "        # 如果不存在下载链接，则跳过这一行\n",
    "        if len(lie[9]) == 0:\n",
    "            continue\n",
    "\n",
    "        if len(lie[8]) == 0:\n",
    "            if len(lie[7]) == 0:\n",
    "                if len(lie[6]) == 0:\n",
    "                    path = lie[1]+'/'+lie[2]+'/'+lie[3]+'/'+lie[4]+'/'+str(l)+'-+'+replace(lie[5])\n",
    "                    # 文件下载名字\n",
    "                    download_name_arr.append(str(l)+'-+'+replace(lie[5]))\n",
    "                else:\n",
    "                    path = lie[1]+'/'+lie[2]+'/'+lie[3]+'/'+lie[4]+'/'+replace(lie[5])+'/'+str(l)+'-+'+replace(lie[6])\n",
    "                    # 文件下载名字\n",
    "                    download_name_arr.append(str(l)+'-+'+replace(lie[6]))\n",
    "            else:\n",
    "                path = lie[1]+'/'+lie[2]+'/'+lie[3]+'/'+lie[4]+'/'+replace(lie[5])+'/'+replace(lie[6])+'/'+str(l)+'-+'+replace(lie[7])\n",
    "                # 文件下载名字\n",
    "                download_name_arr.append(str(l)+'-+'+replace(lie[7]))\n",
    "        else:\n",
    "            path = lie[1]+'/'+lie[2]+'/'+lie[3]+'/'+lie[4]+'/'+replace(lie[5])+'/'+replace(lie[6])+'/'+replace(lie[7])+'/'+str(l)+'-+'+replace(lie[8])\n",
    "            # 文件下载名字\n",
    "            download_name_arr.append(str(l)+'-+'+replace(lie[8]))\n",
    "\n",
    "        # link = lie[11]\n",
    "\n",
    "        path_arr.append(path)\n",
    "\n",
    "        # link_arr.append(link)\n",
    "\n",
    "    return path_arr, download_name_arr, result"
   ]
  },
  {
   "cell_type": "code",
   "execution_count": 4,
   "metadata": {},
   "outputs": [
    {
     "name": "stderr",
     "output_type": "stream",
     "text": [
      "100%|██████████| 16271/16271 [04:39<00:00, 58.22it/s] \n"
     ]
    }
   ],
   "source": [
    "path_arr, download_name_arr, result = main()\n",
    "\n",
    "for i in tqdm(range(len(download_name_arr))):\n",
    "    save(download_name_arr[i],result['teaching_plan_save_path'],path_arr[i],result['teaching_plan_word_path'])"
   ]
  },
  {
   "cell_type": "code",
   "execution_count": 2,
   "metadata": {},
   "outputs": [
    {
     "name": "stdout",
     "output_type": "stream",
     "text": [
      "1-+我是中国人.docx\n"
     ]
    }
   ],
   "source": [
    "# files = os.listdir('../../data/result/全部教案/word版本')\n",
    "# for file in files:\n",
    "#     print(file)\n",
    "#     break"
   ]
  }
 ],
 "metadata": {
  "kernelspec": {
   "display_name": "base",
   "language": "python",
   "name": "python3"
  },
  "language_info": {
   "codemirror_mode": {
    "name": "ipython",
    "version": 3
   },
   "file_extension": ".py",
   "mimetype": "text/x-python",
   "name": "python",
   "nbconvert_exporter": "python",
   "pygments_lexer": "ipython3",
   "version": "3.8.17"
  }
 },
 "nbformat": 4,
 "nbformat_minor": 2
}
