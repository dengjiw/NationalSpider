{
 "cells": [
  {
   "cell_type": "code",
   "execution_count": 1,
   "metadata": {},
   "outputs": [],
   "source": [
    "import os\n",
    "import yaml\n",
    "from tqdm import tqdm\n",
    "import shutil"
   ]
  },
  {
   "cell_type": "code",
   "execution_count": 13,
   "metadata": {},
   "outputs": [],
   "source": [
    "def read_yaml(yaml_path):\n",
    "    with open(yaml_path, encoding=\"utf-8\", mode=\"r\") as f:\n",
    "        result = yaml.load(stream=f,Loader=yaml.FullLoader)\n",
    "        return result\n",
    "\n",
    "def save(word_path,root):\n",
    "    count = 0\n",
    "\n",
    "    files = os.listdir(word_path)\n",
    "    for file in tqdm(files):\n",
    "        file_list = file.split('_')\n",
    "        path = '/'\n",
    "\n",
    "        for index,name in enumerate(file_list):\n",
    "            if index == len(file_list) - 1:\n",
    "                file_name = name\n",
    "                # print(file_name)\n",
    "                break\n",
    "            path += name\n",
    "            path += '/'\n",
    "            \n",
    "        # print(path)\n",
    "        \n",
    "\n",
    "        path_final = root + path\n",
    "\n",
    "        if not os.path.exists(path_final):\n",
    "            os.makedirs(path_final)\n",
    "\n",
    "        src_path = os.path.join(word_path, file) #源文件路径\n",
    "        dest_path = os.path.join(path_final, file_name) #目标文件路径\n",
    "\n",
    "        # print(src_path)\n",
    "        # print(dest_path)\n",
    "        shutil.copy(src_path, dest_path)\n",
    "        # count += 1\n",
    "        # if count == 10:\n",
    "        #     break\n",
    "        \n",
    "    return 0\n"
   ]
  },
  {
   "cell_type": "code",
   "execution_count": 14,
   "metadata": {},
   "outputs": [
    {
     "name": "stderr",
     "output_type": "stream",
     "text": [
      " 78%|███████▊  | 15700/20068 [03:14<00:54, 80.73it/s] \n"
     ]
    },
    {
     "ename": "FileNotFoundError",
     "evalue": "[WinError 3] 系统找不到指定的路径。: '../../data/result/全部教案/按目录存储/小学/英语/清华大学版/四年级下册/UNIT 3  WHEN I GROW UP.../Lesson 20/'",
     "output_type": "error",
     "traceback": [
      "\u001b[1;31m---------------------------------------------------------------------------\u001b[0m",
      "\u001b[1;31mFileNotFoundError\u001b[0m                         Traceback (most recent call last)",
      "Cell \u001b[1;32mIn[14], line 1\u001b[0m\n\u001b[1;32m----> 1\u001b[0m \u001b[43msave\u001b[49m\u001b[43m(\u001b[49m\u001b[38;5;124;43m'\u001b[39;49m\u001b[38;5;124;43m../../data/result/全部教案/嗨格式\u001b[39;49m\u001b[38;5;124;43m'\u001b[39;49m\u001b[43m,\u001b[49m\u001b[38;5;124;43m'\u001b[39;49m\u001b[38;5;124;43m../../data/result/全部教案/按目录存储\u001b[39;49m\u001b[38;5;124;43m'\u001b[39;49m\u001b[43m)\u001b[49m\n",
      "Cell \u001b[1;32mIn[13], line 28\u001b[0m, in \u001b[0;36msave\u001b[1;34m(word_path, root)\u001b[0m\n\u001b[0;32m     25\u001b[0m path_final \u001b[38;5;241m=\u001b[39m root \u001b[38;5;241m+\u001b[39m path\n\u001b[0;32m     27\u001b[0m \u001b[38;5;28;01mif\u001b[39;00m \u001b[38;5;129;01mnot\u001b[39;00m os\u001b[38;5;241m.\u001b[39mpath\u001b[38;5;241m.\u001b[39mexists(path_final):\n\u001b[1;32m---> 28\u001b[0m     \u001b[43mos\u001b[49m\u001b[38;5;241;43m.\u001b[39;49m\u001b[43mmakedirs\u001b[49m\u001b[43m(\u001b[49m\u001b[43mpath_final\u001b[49m\u001b[43m)\u001b[49m\n\u001b[0;32m     30\u001b[0m src_path \u001b[38;5;241m=\u001b[39m os\u001b[38;5;241m.\u001b[39mpath\u001b[38;5;241m.\u001b[39mjoin(word_path, file) \u001b[38;5;66;03m#源文件路径\u001b[39;00m\n\u001b[0;32m     31\u001b[0m dest_path \u001b[38;5;241m=\u001b[39m os\u001b[38;5;241m.\u001b[39mpath\u001b[38;5;241m.\u001b[39mjoin(path_final, file_name) \u001b[38;5;66;03m#目标文件路径\u001b[39;00m\n",
      "File \u001b[1;32md:\\miniconda3\\lib\\os.py:223\u001b[0m, in \u001b[0;36mmakedirs\u001b[1;34m(name, mode, exist_ok)\u001b[0m\n\u001b[0;32m    221\u001b[0m         \u001b[38;5;28;01mreturn\u001b[39;00m\n\u001b[0;32m    222\u001b[0m \u001b[38;5;28;01mtry\u001b[39;00m:\n\u001b[1;32m--> 223\u001b[0m     \u001b[43mmkdir\u001b[49m\u001b[43m(\u001b[49m\u001b[43mname\u001b[49m\u001b[43m,\u001b[49m\u001b[43m \u001b[49m\u001b[43mmode\u001b[49m\u001b[43m)\u001b[49m\n\u001b[0;32m    224\u001b[0m \u001b[38;5;28;01mexcept\u001b[39;00m \u001b[38;5;167;01mOSError\u001b[39;00m:\n\u001b[0;32m    225\u001b[0m     \u001b[38;5;66;03m# Cannot rely on checking for EEXIST, since the operating system\u001b[39;00m\n\u001b[0;32m    226\u001b[0m     \u001b[38;5;66;03m# could give priority to other errors like EACCES or EROFS\u001b[39;00m\n\u001b[0;32m    227\u001b[0m     \u001b[38;5;28;01mif\u001b[39;00m \u001b[38;5;129;01mnot\u001b[39;00m exist_ok \u001b[38;5;129;01mor\u001b[39;00m \u001b[38;5;129;01mnot\u001b[39;00m path\u001b[38;5;241m.\u001b[39misdir(name):\n",
      "\u001b[1;31mFileNotFoundError\u001b[0m: [WinError 3] 系统找不到指定的路径。: '../../data/result/全部教案/按目录存储/小学/英语/清华大学版/四年级下册/UNIT 3  WHEN I GROW UP.../Lesson 20/'"
     ]
    }
   ],
   "source": [
    "save('../../data/result/全部教案/嗨格式','../../data/result/全部教案/按目录存储')"
   ]
  }
 ],
 "metadata": {
  "kernelspec": {
   "display_name": "base",
   "language": "python",
   "name": "python3"
  },
  "language_info": {
   "codemirror_mode": {
    "name": "ipython",
    "version": 3
   },
   "file_extension": ".py",
   "mimetype": "text/x-python",
   "name": "python",
   "nbconvert_exporter": "python",
   "pygments_lexer": "ipython3",
   "version": "3.8.17"
  }
 },
 "nbformat": 4,
 "nbformat_minor": 2
}
